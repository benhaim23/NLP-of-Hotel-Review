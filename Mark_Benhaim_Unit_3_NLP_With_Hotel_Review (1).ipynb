{
 "cells": [
  {
   "cell_type": "markdown",
   "id": "7b3c0f2f",
   "metadata": {},
   "source": [
    "# NLP With Hotel Review"
   ]
  },
  {
   "cell_type": "markdown",
   "id": "6a193d2c",
   "metadata": {},
   "source": [
    "#### This is a comprehensive assignment that involves data cleaning, exploratory data analysis (EDA), preprocessing of text data, model fitting, model optimization, and evaluation. Here's an outline of how this assignment will be completed:"
   ]
  },
  {
   "cell_type": "markdown",
   "id": "7ce1e17f",
   "metadata": {},
   "source": [
    "## Table of Contents"
   ]
  },
  {
   "cell_type": "markdown",
   "id": "08615ca9",
   "metadata": {},
   "source": [
    "### 1. Introduction\n",
    "### 2. Load and Understand the Data\n",
    "### 3. Exploratory Data Analysis\n",
    "### 4. Preprocessing\n",
    "### 5. Modelling\n",
    "### 6. Model Evaluation\n",
    "### 7. Conclusion"
   ]
  },
  {
   "cell_type": "markdown",
   "id": "deb52928",
   "metadata": {},
   "source": [
    "## 1. Introduction"
   ]
  },
  {
   "cell_type": "markdown",
   "id": "4cc13e02",
   "metadata": {},
   "source": [
    "- Introduction to the project.\n",
    "- Brief discussion about the data and objectives of the analysis."
   ]
  },
  {
   "cell_type": "markdown",
   "id": "1b3a16af",
   "metadata": {},
   "source": [
    "In the modern hospitality industry, leveraging customer reviews is pivotal to a hotel's success. To harness this potential, Hotel Management Inc. has provided a dataset rich with guest feedback. This dataset contains details of hotel stays and reviews, with the focal point being the 'Reviewer_Score' indicating positive (1) or negative (0) sentiments. Our goal is to identify key factors influencing guest satisfaction.\n",
    "\n",
    "We'll commence with an exploratory data analysis, followed by data preprocessing, particularly for textual reviews. This report will develop logistic regression and decision tree models to predict review sentiments. Evaluating the model's efficiency through metrics like accuracy, precision, and recall, we aim to present actionable insights to enhance Hotel Management Inc.'s service quality. Through an in-depth analysis of these metrics and the confusion matrix, we will shed light on how well our models are working and where improvements can be made. This endeavour underscores how data analytics can transmute raw feedback into a roadmap for business betterment."
   ]
  },
  {
   "cell_type": "markdown",
   "id": "651a0001",
   "metadata": {},
   "source": [
    "## 2. Load and Understand the Data"
   ]
  },
  {
   "cell_type": "code",
   "execution_count": 68,
   "id": "c730726f",
   "metadata": {},
   "outputs": [
    {
     "data": {
      "text/html": [
       "<div>\n",
       "<style scoped>\n",
       "    .dataframe tbody tr th:only-of-type {\n",
       "        vertical-align: middle;\n",
       "    }\n",
       "\n",
       "    .dataframe tbody tr th {\n",
       "        vertical-align: top;\n",
       "    }\n",
       "\n",
       "    .dataframe thead th {\n",
       "        text-align: right;\n",
       "    }\n",
       "</style>\n",
       "<table border=\"1\" class=\"dataframe\">\n",
       "  <thead>\n",
       "    <tr style=\"text-align: right;\">\n",
       "      <th></th>\n",
       "      <th>Unnamed: 0</th>\n",
       "      <th>Additional_Number_of_Scoring</th>\n",
       "      <th>Average_Score</th>\n",
       "      <th>Negative_Review</th>\n",
       "      <th>Review_Total_Negative_Word_Counts</th>\n",
       "      <th>Total_Number_of_Reviews</th>\n",
       "      <th>Positive_Review</th>\n",
       "      <th>Review_Total_Positive_Word_Counts</th>\n",
       "      <th>Total_Number_of_Reviews_Reviewer_Has_Given</th>\n",
       "      <th>Reviewer_Score</th>\n",
       "      <th>...</th>\n",
       "      <th>Reviewer_Nationality_USA</th>\n",
       "      <th>Reviewer_Nationality_Other</th>\n",
       "      <th>Hotel_Address_Amsterdam</th>\n",
       "      <th>Hotel_Address_Barcelona</th>\n",
       "      <th>Hotel_Address_London</th>\n",
       "      <th>Hotel_Address_Milan</th>\n",
       "      <th>Hotel_Address_Paris</th>\n",
       "      <th>Hotel_Address_Vienna</th>\n",
       "      <th>Leisure_Trip</th>\n",
       "      <th>Nights_Stayed</th>\n",
       "    </tr>\n",
       "  </thead>\n",
       "  <tbody>\n",
       "    <tr>\n",
       "      <th>0</th>\n",
       "      <td>0</td>\n",
       "      <td>194</td>\n",
       "      <td>7.7</td>\n",
       "      <td>I am so angry that i made this post available...</td>\n",
       "      <td>397</td>\n",
       "      <td>1403</td>\n",
       "      <td>Only the park outside of the hotel was beauti...</td>\n",
       "      <td>11</td>\n",
       "      <td>7</td>\n",
       "      <td>0</td>\n",
       "      <td>...</td>\n",
       "      <td>0</td>\n",
       "      <td>1</td>\n",
       "      <td>1</td>\n",
       "      <td>0</td>\n",
       "      <td>0</td>\n",
       "      <td>0</td>\n",
       "      <td>0</td>\n",
       "      <td>0</td>\n",
       "      <td>1</td>\n",
       "      <td>6</td>\n",
       "    </tr>\n",
       "    <tr>\n",
       "      <th>1</th>\n",
       "      <td>1</td>\n",
       "      <td>194</td>\n",
       "      <td>7.7</td>\n",
       "      <td>No Negative</td>\n",
       "      <td>0</td>\n",
       "      <td>1403</td>\n",
       "      <td>No real complaints the hotel was great great ...</td>\n",
       "      <td>105</td>\n",
       "      <td>7</td>\n",
       "      <td>0</td>\n",
       "      <td>...</td>\n",
       "      <td>0</td>\n",
       "      <td>0</td>\n",
       "      <td>1</td>\n",
       "      <td>0</td>\n",
       "      <td>0</td>\n",
       "      <td>0</td>\n",
       "      <td>0</td>\n",
       "      <td>0</td>\n",
       "      <td>1</td>\n",
       "      <td>4</td>\n",
       "    </tr>\n",
       "    <tr>\n",
       "      <th>2</th>\n",
       "      <td>2</td>\n",
       "      <td>194</td>\n",
       "      <td>7.7</td>\n",
       "      <td>Rooms are nice but for elderly a bit difficul...</td>\n",
       "      <td>42</td>\n",
       "      <td>1403</td>\n",
       "      <td>Location was good and staff were ok It is cut...</td>\n",
       "      <td>21</td>\n",
       "      <td>9</td>\n",
       "      <td>0</td>\n",
       "      <td>...</td>\n",
       "      <td>0</td>\n",
       "      <td>0</td>\n",
       "      <td>1</td>\n",
       "      <td>0</td>\n",
       "      <td>0</td>\n",
       "      <td>0</td>\n",
       "      <td>0</td>\n",
       "      <td>0</td>\n",
       "      <td>1</td>\n",
       "      <td>3</td>\n",
       "    </tr>\n",
       "    <tr>\n",
       "      <th>3</th>\n",
       "      <td>3</td>\n",
       "      <td>194</td>\n",
       "      <td>7.7</td>\n",
       "      <td>My room was dirty and I was afraid to walk ba...</td>\n",
       "      <td>210</td>\n",
       "      <td>1403</td>\n",
       "      <td>Great location in nice surroundings the bar a...</td>\n",
       "      <td>26</td>\n",
       "      <td>1</td>\n",
       "      <td>0</td>\n",
       "      <td>...</td>\n",
       "      <td>0</td>\n",
       "      <td>0</td>\n",
       "      <td>1</td>\n",
       "      <td>0</td>\n",
       "      <td>0</td>\n",
       "      <td>0</td>\n",
       "      <td>0</td>\n",
       "      <td>0</td>\n",
       "      <td>1</td>\n",
       "      <td>3</td>\n",
       "    </tr>\n",
       "    <tr>\n",
       "      <th>4</th>\n",
       "      <td>4</td>\n",
       "      <td>194</td>\n",
       "      <td>7.7</td>\n",
       "      <td>You When I booked with your company on line y...</td>\n",
       "      <td>140</td>\n",
       "      <td>1403</td>\n",
       "      <td>Amazing location and building Romantic setting</td>\n",
       "      <td>8</td>\n",
       "      <td>3</td>\n",
       "      <td>0</td>\n",
       "      <td>...</td>\n",
       "      <td>0</td>\n",
       "      <td>1</td>\n",
       "      <td>1</td>\n",
       "      <td>0</td>\n",
       "      <td>0</td>\n",
       "      <td>0</td>\n",
       "      <td>0</td>\n",
       "      <td>0</td>\n",
       "      <td>1</td>\n",
       "      <td>2</td>\n",
       "    </tr>\n",
       "  </tbody>\n",
       "</table>\n",
       "<p>5 rows × 30 columns</p>\n",
       "</div>"
      ],
      "text/plain": [
       "   Unnamed: 0  Additional_Number_of_Scoring  Average_Score  \\\n",
       "0           0                           194            7.7   \n",
       "1           1                           194            7.7   \n",
       "2           2                           194            7.7   \n",
       "3           3                           194            7.7   \n",
       "4           4                           194            7.7   \n",
       "\n",
       "                                     Negative_Review  \\\n",
       "0   I am so angry that i made this post available...   \n",
       "1                                        No Negative   \n",
       "2   Rooms are nice but for elderly a bit difficul...   \n",
       "3   My room was dirty and I was afraid to walk ba...   \n",
       "4   You When I booked with your company on line y...   \n",
       "\n",
       "   Review_Total_Negative_Word_Counts  Total_Number_of_Reviews  \\\n",
       "0                                397                     1403   \n",
       "1                                  0                     1403   \n",
       "2                                 42                     1403   \n",
       "3                                210                     1403   \n",
       "4                                140                     1403   \n",
       "\n",
       "                                     Positive_Review  \\\n",
       "0   Only the park outside of the hotel was beauti...   \n",
       "1   No real complaints the hotel was great great ...   \n",
       "2   Location was good and staff were ok It is cut...   \n",
       "3   Great location in nice surroundings the bar a...   \n",
       "4    Amazing location and building Romantic setting    \n",
       "\n",
       "   Review_Total_Positive_Word_Counts  \\\n",
       "0                                 11   \n",
       "1                                105   \n",
       "2                                 21   \n",
       "3                                 26   \n",
       "4                                  8   \n",
       "\n",
       "   Total_Number_of_Reviews_Reviewer_Has_Given  Reviewer_Score  ...  \\\n",
       "0                                           7               0  ...   \n",
       "1                                           7               0  ...   \n",
       "2                                           9               0  ...   \n",
       "3                                           1               0  ...   \n",
       "4                                           3               0  ...   \n",
       "\n",
       "   Reviewer_Nationality_USA  Reviewer_Nationality_Other  \\\n",
       "0                         0                           1   \n",
       "1                         0                           0   \n",
       "2                         0                           0   \n",
       "3                         0                           0   \n",
       "4                         0                           1   \n",
       "\n",
       "   Hotel_Address_Amsterdam  Hotel_Address_Barcelona  Hotel_Address_London  \\\n",
       "0                        1                        0                     0   \n",
       "1                        1                        0                     0   \n",
       "2                        1                        0                     0   \n",
       "3                        1                        0                     0   \n",
       "4                        1                        0                     0   \n",
       "\n",
       "   Hotel_Address_Milan  Hotel_Address_Paris  Hotel_Address_Vienna  \\\n",
       "0                    0                    0                     0   \n",
       "1                    0                    0                     0   \n",
       "2                    0                    0                     0   \n",
       "3                    0                    0                     0   \n",
       "4                    0                    0                     0   \n",
       "\n",
       "   Leisure_Trip  Nights_Stayed  \n",
       "0             1              6  \n",
       "1             1              4  \n",
       "2             1              3  \n",
       "3             1              3  \n",
       "4             1              2  \n",
       "\n",
       "[5 rows x 30 columns]"
      ]
     },
     "execution_count": 68,
     "metadata": {},
     "output_type": "execute_result"
    }
   ],
   "source": [
    "# Import necessary libraries\n",
    "import pandas as pd\n",
    "import numpy as np\n",
    "import matplotlib.pyplot as plt\n",
    "import seaborn as sns\n",
    "import re\n",
    "import string\n",
    "from sklearn.feature_extraction.text import CountVectorizer\n",
    "from sklearn.model_selection import train_test_split, GridSearchCV\n",
    "from sklearn.linear_model import LogisticRegression\n",
    "from sklearn.metrics import accuracy_score, precision_score, recall_score, f1_score, confusion_matrix, classification_report\n",
    "from sklearn.tree import DecisionTreeClassifier\n",
    "\n",
    "import nltk\n",
    "from nltk.corpus import stopwords\n",
    "from nltk.tokenize import word_tokenize\n",
    "from nltk.stem import PorterStemmer\n",
    "\n",
    "# Load data\n",
    "df = pd.read_csv('~/Downloads/hotel_reviews.csv')\n",
    "\n",
    "# Check the first few rows of the DataFrame\n",
    "df.head()\n",
    "\n"
   ]
  },
  {
   "cell_type": "code",
   "execution_count": 72,
   "id": "96d84bf9",
   "metadata": {},
   "outputs": [
    {
     "name": "stdout",
     "output_type": "stream",
     "text": [
      "<class 'pandas.core.frame.DataFrame'>\n",
      "RangeIndex: 515738 entries, 0 to 515737\n",
      "Data columns (total 30 columns):\n",
      " #   Column                                      Non-Null Count   Dtype  \n",
      "---  ------                                      --------------   -----  \n",
      " 0   Unnamed: 0                                  515738 non-null  int64  \n",
      " 1   Additional_Number_of_Scoring                515738 non-null  int64  \n",
      " 2   Average_Score                               515738 non-null  float64\n",
      " 3   Negative_Review                             515738 non-null  object \n",
      " 4   Review_Total_Negative_Word_Counts           515738 non-null  int64  \n",
      " 5   Total_Number_of_Reviews                     515738 non-null  int64  \n",
      " 6   Positive_Review                             515738 non-null  object \n",
      " 7   Review_Total_Positive_Word_Counts           515738 non-null  int64  \n",
      " 8   Total_Number_of_Reviews_Reviewer_Has_Given  515738 non-null  int64  \n",
      " 9   Reviewer_Score                              515738 non-null  int64  \n",
      " 10  Days_Since_Review                           515738 non-null  int64  \n",
      " 11  Latitude                                    515738 non-null  float64\n",
      " 12  Longitude                                   515738 non-null  float64\n",
      " 13  Day                                         515738 non-null  int64  \n",
      " 14  Month                                       515738 non-null  int64  \n",
      " 15  Year                                        515738 non-null  int64  \n",
      " 16  Reviewer_Nationality_Australia              515738 non-null  int64  \n",
      " 17  Reviewer_Nationality_Ireland                515738 non-null  int64  \n",
      " 18  Reviewer_Nationality_UAE                    515738 non-null  int64  \n",
      " 19  Reviewer_Nationality_UK                     515738 non-null  int64  \n",
      " 20  Reviewer_Nationality_USA                    515738 non-null  int64  \n",
      " 21  Reviewer_Nationality_Other                  515738 non-null  int64  \n",
      " 22  Hotel_Address_Amsterdam                     515738 non-null  int64  \n",
      " 23  Hotel_Address_Barcelona                     515738 non-null  int64  \n",
      " 24  Hotel_Address_London                        515738 non-null  int64  \n",
      " 25  Hotel_Address_Milan                         515738 non-null  int64  \n",
      " 26  Hotel_Address_Paris                         515738 non-null  int64  \n",
      " 27  Hotel_Address_Vienna                        515738 non-null  int64  \n",
      " 28  Leisure_Trip                                515738 non-null  int64  \n",
      " 29  Nights_Stayed                               515738 non-null  int64  \n",
      "dtypes: float64(3), int64(25), object(2)\n",
      "memory usage: 118.0+ MB\n"
     ]
    }
   ],
   "source": [
    "df.info()"
   ]
  },
  {
   "cell_type": "markdown",
   "id": "c35cf8ec",
   "metadata": {},
   "source": [
    "Our dataset size is a sample of 515738 entries"
   ]
  },
  {
   "cell_type": "code",
   "execution_count": 2,
   "id": "f16e0f76",
   "metadata": {},
   "outputs": [
    {
     "name": "stdout",
     "output_type": "stream",
     "text": [
      "Unnamed: 0                                      int64\n",
      "Additional_Number_of_Scoring                    int64\n",
      "Average_Score                                 float64\n",
      "Negative_Review                                object\n",
      "Review_Total_Negative_Word_Counts               int64\n",
      "Total_Number_of_Reviews                         int64\n",
      "Positive_Review                                object\n",
      "Review_Total_Positive_Word_Counts               int64\n",
      "Total_Number_of_Reviews_Reviewer_Has_Given      int64\n",
      "Reviewer_Score                                  int64\n",
      "Days_Since_Review                               int64\n",
      "Latitude                                      float64\n",
      "Longitude                                     float64\n",
      "Day                                             int64\n",
      "Month                                           int64\n",
      "Year                                            int64\n",
      "Reviewer_Nationality_Australia                  int64\n",
      "Reviewer_Nationality_Ireland                    int64\n",
      "Reviewer_Nationality_UAE                        int64\n",
      "Reviewer_Nationality_UK                         int64\n",
      "Reviewer_Nationality_USA                        int64\n",
      "Reviewer_Nationality_Other                      int64\n",
      "Hotel_Address_Amsterdam                         int64\n",
      "Hotel_Address_Barcelona                         int64\n",
      "Hotel_Address_London                            int64\n",
      "Hotel_Address_Milan                             int64\n",
      "Hotel_Address_Paris                             int64\n",
      "Hotel_Address_Vienna                            int64\n",
      "Leisure_Trip                                    int64\n",
      "Nights_Stayed                                   int64\n",
      "dtype: object\n"
     ]
    }
   ],
   "source": [
    "print(df.dtypes)"
   ]
  },
  {
   "cell_type": "markdown",
   "id": "8a5a5f61",
   "metadata": {},
   "source": [
    "## 3. Exploratory Data Analysis"
   ]
  },
  {
   "cell_type": "markdown",
   "id": "e3d6799f",
   "metadata": {},
   "source": [
    "- Create a data dictionary\n",
    "- Handle missing values and outliers, if any\n",
    "- Basic statistical analysis: df.describe()\n",
    "- Data visualizations: histograms, scatter plots, box plots, etc."
   ]
  },
  {
   "cell_type": "markdown",
   "id": "fcba8adb",
   "metadata": {},
   "source": [
    "### Data Dictionary\n",
    "\n",
    "1. `Additional_Number_of_Scoring`: Additional metrics or scores given to the reviews (numerical).\n",
    "2. `Average_Score`: The average score or rating the hotel has received (numerical).\n",
    "3. `Negative_Review`: Text of the negative reviews (textual).\n",
    "4. `Positive_Review`: Text of the positive reviews (textual).\n",
    "5. `Review_Total_Negative_Word_Counts`: The total number of words in the negative reviews (numerical).\n",
    "6. `Review_Total_Positive_Word_Counts`: The total number of words in the positive reviews (numerical).\n",
    "7. `Total_Number_of_Reviews`: The total number of reviews that the hotel has received (numerical).\n",
    "8. `Total_Number_of_Reviews_Reviewer_Has_Given`: The total number of reviews the reviewer has given to various hotels (numerical).\n",
    "9. `Reviewer_Score`: The target variable. It indicates whether the review expresses positive sentiment (1) or negative sentiment (0) (binary).\n",
    "10. `Days_Since_Review`: The number of days since the review was posted (numerical).\n",
    "11. `Latitude`: The geographical latitude of the hotel (numerical).\n",
    "12. `Longitude`: The geographical longitude of the hotel (numerical).\n",
    "13. `Day`: The day when the review was posted (numerical).\n",
    "14. `Month`: The month when the review was posted (numerical).\n",
    "15. `Year`: The year when the review was posted (numerical).\n",
    "16. `Reviewer_Nationality_*`: Dummy variables indicating the nationality of the reviewer. For example, `Reviewer_Nationality_Australia` is 1 if the reviewer is from Australia and 0 otherwise (binary).\n",
    "17. `Hotel_Address_*`: Dummy variables indicating the location of the hotel. For example, `Hotel_Address_Amsterdam` is 1 if the hotel is in Amsterdam and 0 otherwise (binary).\n",
    "18. `Leisure_Trip`: A dummy variable indicating whether the stay was for leisure purposes. It is 1 if the trip was for leisure and 0 otherwise (binary).\n",
    "19. `Nights_Stayed`: The number of nights the reviewer stayed at the hotel (numerical).\n"
   ]
  },
  {
   "cell_type": "code",
   "execution_count": 3,
   "id": "969b6056",
   "metadata": {},
   "outputs": [
    {
     "name": "stdout",
     "output_type": "stream",
     "text": [
      "Unnamed: 0                                    0\n",
      "Additional_Number_of_Scoring                  0\n",
      "Average_Score                                 0\n",
      "Negative_Review                               0\n",
      "Review_Total_Negative_Word_Counts             0\n",
      "Total_Number_of_Reviews                       0\n",
      "Positive_Review                               0\n",
      "Review_Total_Positive_Word_Counts             0\n",
      "Total_Number_of_Reviews_Reviewer_Has_Given    0\n",
      "Reviewer_Score                                0\n",
      "Days_Since_Review                             0\n",
      "Latitude                                      0\n",
      "Longitude                                     0\n",
      "Day                                           0\n",
      "Month                                         0\n",
      "Year                                          0\n",
      "Reviewer_Nationality_Australia                0\n",
      "Reviewer_Nationality_Ireland                  0\n",
      "Reviewer_Nationality_UAE                      0\n",
      "Reviewer_Nationality_UK                       0\n",
      "Reviewer_Nationality_USA                      0\n",
      "Reviewer_Nationality_Other                    0\n",
      "Hotel_Address_Amsterdam                       0\n",
      "Hotel_Address_Barcelona                       0\n",
      "Hotel_Address_London                          0\n",
      "Hotel_Address_Milan                           0\n",
      "Hotel_Address_Paris                           0\n",
      "Hotel_Address_Vienna                          0\n",
      "Leisure_Trip                                  0\n",
      "Nights_Stayed                                 0\n",
      "dtype: int64\n"
     ]
    }
   ],
   "source": [
    "# Check for missing values in each column\n",
    "missing_values = df.isnull().sum()\n",
    "print(missing_values)\n"
   ]
  },
  {
   "cell_type": "markdown",
   "id": "67b52237",
   "metadata": {},
   "source": [
    "There are no missing values in the dataset"
   ]
  },
  {
   "cell_type": "code",
   "execution_count": 4,
   "id": "25b33967",
   "metadata": {},
   "outputs": [
    {
     "data": {
      "text/html": [
       "<div>\n",
       "<style scoped>\n",
       "    .dataframe tbody tr th:only-of-type {\n",
       "        vertical-align: middle;\n",
       "    }\n",
       "\n",
       "    .dataframe tbody tr th {\n",
       "        vertical-align: top;\n",
       "    }\n",
       "\n",
       "    .dataframe thead th {\n",
       "        text-align: right;\n",
       "    }\n",
       "</style>\n",
       "<table border=\"1\" class=\"dataframe\">\n",
       "  <thead>\n",
       "    <tr style=\"text-align: right;\">\n",
       "      <th></th>\n",
       "      <th>Unnamed: 0</th>\n",
       "      <th>Additional_Number_of_Scoring</th>\n",
       "      <th>Average_Score</th>\n",
       "      <th>Review_Total_Negative_Word_Counts</th>\n",
       "      <th>Total_Number_of_Reviews</th>\n",
       "      <th>Review_Total_Positive_Word_Counts</th>\n",
       "      <th>Total_Number_of_Reviews_Reviewer_Has_Given</th>\n",
       "      <th>Reviewer_Score</th>\n",
       "      <th>Days_Since_Review</th>\n",
       "      <th>Latitude</th>\n",
       "      <th>...</th>\n",
       "      <th>Reviewer_Nationality_USA</th>\n",
       "      <th>Reviewer_Nationality_Other</th>\n",
       "      <th>Hotel_Address_Amsterdam</th>\n",
       "      <th>Hotel_Address_Barcelona</th>\n",
       "      <th>Hotel_Address_London</th>\n",
       "      <th>Hotel_Address_Milan</th>\n",
       "      <th>Hotel_Address_Paris</th>\n",
       "      <th>Hotel_Address_Vienna</th>\n",
       "      <th>Leisure_Trip</th>\n",
       "      <th>Nights_Stayed</th>\n",
       "    </tr>\n",
       "  </thead>\n",
       "  <tbody>\n",
       "    <tr>\n",
       "      <th>count</th>\n",
       "      <td>515738.000000</td>\n",
       "      <td>515738.000000</td>\n",
       "      <td>515738.000000</td>\n",
       "      <td>515738.000000</td>\n",
       "      <td>515738.000000</td>\n",
       "      <td>515738.000000</td>\n",
       "      <td>515738.000000</td>\n",
       "      <td>515738.000000</td>\n",
       "      <td>515738.000000</td>\n",
       "      <td>515738.000000</td>\n",
       "      <td>...</td>\n",
       "      <td>515738.000000</td>\n",
       "      <td>515738.000000</td>\n",
       "      <td>515738.000000</td>\n",
       "      <td>515738.000000</td>\n",
       "      <td>515738.000000</td>\n",
       "      <td>515738.000000</td>\n",
       "      <td>515738.000000</td>\n",
       "      <td>515738.000000</td>\n",
       "      <td>515738.000000</td>\n",
       "      <td>515738.000000</td>\n",
       "    </tr>\n",
       "    <tr>\n",
       "      <th>mean</th>\n",
       "      <td>257868.500000</td>\n",
       "      <td>498.081836</td>\n",
       "      <td>8.397487</td>\n",
       "      <td>18.539450</td>\n",
       "      <td>2743.743944</td>\n",
       "      <td>17.776458</td>\n",
       "      <td>7.166001</td>\n",
       "      <td>0.570006</td>\n",
       "      <td>354.441932</td>\n",
       "      <td>49.432419</td>\n",
       "      <td>...</td>\n",
       "      <td>0.068711</td>\n",
       "      <td>0.365121</td>\n",
       "      <td>0.110936</td>\n",
       "      <td>0.116627</td>\n",
       "      <td>0.508594</td>\n",
       "      <td>0.072143</td>\n",
       "      <td>0.116199</td>\n",
       "      <td>0.075502</td>\n",
       "      <td>0.810059</td>\n",
       "      <td>2.362122</td>\n",
       "    </tr>\n",
       "    <tr>\n",
       "      <th>std</th>\n",
       "      <td>148880.880902</td>\n",
       "      <td>500.538467</td>\n",
       "      <td>0.548048</td>\n",
       "      <td>29.690831</td>\n",
       "      <td>2317.464868</td>\n",
       "      <td>21.804185</td>\n",
       "      <td>11.040228</td>\n",
       "      <td>0.495075</td>\n",
       "      <td>208.928124</td>\n",
       "      <td>3.460237</td>\n",
       "      <td>...</td>\n",
       "      <td>0.252963</td>\n",
       "      <td>0.481465</td>\n",
       "      <td>0.314053</td>\n",
       "      <td>0.320976</td>\n",
       "      <td>0.499927</td>\n",
       "      <td>0.258725</td>\n",
       "      <td>0.320463</td>\n",
       "      <td>0.264199</td>\n",
       "      <td>0.392255</td>\n",
       "      <td>1.646808</td>\n",
       "    </tr>\n",
       "    <tr>\n",
       "      <th>min</th>\n",
       "      <td>0.000000</td>\n",
       "      <td>1.000000</td>\n",
       "      <td>5.200000</td>\n",
       "      <td>0.000000</td>\n",
       "      <td>43.000000</td>\n",
       "      <td>0.000000</td>\n",
       "      <td>1.000000</td>\n",
       "      <td>0.000000</td>\n",
       "      <td>0.000000</td>\n",
       "      <td>41.328376</td>\n",
       "      <td>...</td>\n",
       "      <td>0.000000</td>\n",
       "      <td>0.000000</td>\n",
       "      <td>0.000000</td>\n",
       "      <td>0.000000</td>\n",
       "      <td>0.000000</td>\n",
       "      <td>0.000000</td>\n",
       "      <td>0.000000</td>\n",
       "      <td>0.000000</td>\n",
       "      <td>0.000000</td>\n",
       "      <td>1.000000</td>\n",
       "    </tr>\n",
       "    <tr>\n",
       "      <th>25%</th>\n",
       "      <td>128934.250000</td>\n",
       "      <td>169.000000</td>\n",
       "      <td>8.100000</td>\n",
       "      <td>2.000000</td>\n",
       "      <td>1161.000000</td>\n",
       "      <td>5.000000</td>\n",
       "      <td>1.000000</td>\n",
       "      <td>0.000000</td>\n",
       "      <td>175.000000</td>\n",
       "      <td>48.214066</td>\n",
       "      <td>...</td>\n",
       "      <td>0.000000</td>\n",
       "      <td>0.000000</td>\n",
       "      <td>0.000000</td>\n",
       "      <td>0.000000</td>\n",
       "      <td>0.000000</td>\n",
       "      <td>0.000000</td>\n",
       "      <td>0.000000</td>\n",
       "      <td>0.000000</td>\n",
       "      <td>1.000000</td>\n",
       "      <td>1.000000</td>\n",
       "    </tr>\n",
       "    <tr>\n",
       "      <th>50%</th>\n",
       "      <td>257868.500000</td>\n",
       "      <td>341.000000</td>\n",
       "      <td>8.400000</td>\n",
       "      <td>9.000000</td>\n",
       "      <td>2134.000000</td>\n",
       "      <td>11.000000</td>\n",
       "      <td>3.000000</td>\n",
       "      <td>1.000000</td>\n",
       "      <td>353.000000</td>\n",
       "      <td>51.499981</td>\n",
       "      <td>...</td>\n",
       "      <td>0.000000</td>\n",
       "      <td>0.000000</td>\n",
       "      <td>0.000000</td>\n",
       "      <td>0.000000</td>\n",
       "      <td>1.000000</td>\n",
       "      <td>0.000000</td>\n",
       "      <td>0.000000</td>\n",
       "      <td>0.000000</td>\n",
       "      <td>1.000000</td>\n",
       "      <td>2.000000</td>\n",
       "    </tr>\n",
       "    <tr>\n",
       "      <th>75%</th>\n",
       "      <td>386802.750000</td>\n",
       "      <td>660.000000</td>\n",
       "      <td>8.800000</td>\n",
       "      <td>23.000000</td>\n",
       "      <td>3613.000000</td>\n",
       "      <td>22.000000</td>\n",
       "      <td>8.000000</td>\n",
       "      <td>1.000000</td>\n",
       "      <td>527.000000</td>\n",
       "      <td>51.516288</td>\n",
       "      <td>...</td>\n",
       "      <td>0.000000</td>\n",
       "      <td>1.000000</td>\n",
       "      <td>0.000000</td>\n",
       "      <td>0.000000</td>\n",
       "      <td>1.000000</td>\n",
       "      <td>0.000000</td>\n",
       "      <td>0.000000</td>\n",
       "      <td>0.000000</td>\n",
       "      <td>1.000000</td>\n",
       "      <td>3.000000</td>\n",
       "    </tr>\n",
       "    <tr>\n",
       "      <th>max</th>\n",
       "      <td>515737.000000</td>\n",
       "      <td>2682.000000</td>\n",
       "      <td>9.800000</td>\n",
       "      <td>408.000000</td>\n",
       "      <td>16670.000000</td>\n",
       "      <td>395.000000</td>\n",
       "      <td>355.000000</td>\n",
       "      <td>1.000000</td>\n",
       "      <td>730.000000</td>\n",
       "      <td>52.400181</td>\n",
       "      <td>...</td>\n",
       "      <td>1.000000</td>\n",
       "      <td>1.000000</td>\n",
       "      <td>1.000000</td>\n",
       "      <td>1.000000</td>\n",
       "      <td>1.000000</td>\n",
       "      <td>1.000000</td>\n",
       "      <td>1.000000</td>\n",
       "      <td>1.000000</td>\n",
       "      <td>1.000000</td>\n",
       "      <td>31.000000</td>\n",
       "    </tr>\n",
       "  </tbody>\n",
       "</table>\n",
       "<p>8 rows × 28 columns</p>\n",
       "</div>"
      ],
      "text/plain": [
       "          Unnamed: 0  Additional_Number_of_Scoring  Average_Score  \\\n",
       "count  515738.000000                 515738.000000  515738.000000   \n",
       "mean   257868.500000                    498.081836       8.397487   \n",
       "std    148880.880902                    500.538467       0.548048   \n",
       "min         0.000000                      1.000000       5.200000   \n",
       "25%    128934.250000                    169.000000       8.100000   \n",
       "50%    257868.500000                    341.000000       8.400000   \n",
       "75%    386802.750000                    660.000000       8.800000   \n",
       "max    515737.000000                   2682.000000       9.800000   \n",
       "\n",
       "       Review_Total_Negative_Word_Counts  Total_Number_of_Reviews  \\\n",
       "count                      515738.000000            515738.000000   \n",
       "mean                           18.539450              2743.743944   \n",
       "std                            29.690831              2317.464868   \n",
       "min                             0.000000                43.000000   \n",
       "25%                             2.000000              1161.000000   \n",
       "50%                             9.000000              2134.000000   \n",
       "75%                            23.000000              3613.000000   \n",
       "max                           408.000000             16670.000000   \n",
       "\n",
       "       Review_Total_Positive_Word_Counts  \\\n",
       "count                      515738.000000   \n",
       "mean                           17.776458   \n",
       "std                            21.804185   \n",
       "min                             0.000000   \n",
       "25%                             5.000000   \n",
       "50%                            11.000000   \n",
       "75%                            22.000000   \n",
       "max                           395.000000   \n",
       "\n",
       "       Total_Number_of_Reviews_Reviewer_Has_Given  Reviewer_Score  \\\n",
       "count                               515738.000000   515738.000000   \n",
       "mean                                     7.166001        0.570006   \n",
       "std                                     11.040228        0.495075   \n",
       "min                                      1.000000        0.000000   \n",
       "25%                                      1.000000        0.000000   \n",
       "50%                                      3.000000        1.000000   \n",
       "75%                                      8.000000        1.000000   \n",
       "max                                    355.000000        1.000000   \n",
       "\n",
       "       Days_Since_Review       Latitude  ...  Reviewer_Nationality_USA  \\\n",
       "count      515738.000000  515738.000000  ...             515738.000000   \n",
       "mean          354.441932      49.432419  ...                  0.068711   \n",
       "std           208.928124       3.460237  ...                  0.252963   \n",
       "min             0.000000      41.328376  ...                  0.000000   \n",
       "25%           175.000000      48.214066  ...                  0.000000   \n",
       "50%           353.000000      51.499981  ...                  0.000000   \n",
       "75%           527.000000      51.516288  ...                  0.000000   \n",
       "max           730.000000      52.400181  ...                  1.000000   \n",
       "\n",
       "       Reviewer_Nationality_Other  Hotel_Address_Amsterdam  \\\n",
       "count               515738.000000            515738.000000   \n",
       "mean                     0.365121                 0.110936   \n",
       "std                      0.481465                 0.314053   \n",
       "min                      0.000000                 0.000000   \n",
       "25%                      0.000000                 0.000000   \n",
       "50%                      0.000000                 0.000000   \n",
       "75%                      1.000000                 0.000000   \n",
       "max                      1.000000                 1.000000   \n",
       "\n",
       "       Hotel_Address_Barcelona  Hotel_Address_London  Hotel_Address_Milan  \\\n",
       "count            515738.000000         515738.000000        515738.000000   \n",
       "mean                  0.116627              0.508594             0.072143   \n",
       "std                   0.320976              0.499927             0.258725   \n",
       "min                   0.000000              0.000000             0.000000   \n",
       "25%                   0.000000              0.000000             0.000000   \n",
       "50%                   0.000000              1.000000             0.000000   \n",
       "75%                   0.000000              1.000000             0.000000   \n",
       "max                   1.000000              1.000000             1.000000   \n",
       "\n",
       "       Hotel_Address_Paris  Hotel_Address_Vienna   Leisure_Trip  Nights_Stayed  \n",
       "count        515738.000000         515738.000000  515738.000000  515738.000000  \n",
       "mean              0.116199              0.075502       0.810059       2.362122  \n",
       "std               0.320463              0.264199       0.392255       1.646808  \n",
       "min               0.000000              0.000000       0.000000       1.000000  \n",
       "25%               0.000000              0.000000       1.000000       1.000000  \n",
       "50%               0.000000              0.000000       1.000000       2.000000  \n",
       "75%               0.000000              0.000000       1.000000       3.000000  \n",
       "max               1.000000              1.000000       1.000000      31.000000  \n",
       "\n",
       "[8 rows x 28 columns]"
      ]
     },
     "execution_count": 4,
     "metadata": {},
     "output_type": "execute_result"
    }
   ],
   "source": [
    "# Basic Statistical Analysis\n",
    "df.describe()"
   ]
  },
  {
   "cell_type": "markdown",
   "id": "4bcc0480",
   "metadata": {},
   "source": [
    "The `df.describe()` provides key insights into hotel reviews:\n",
    "\n",
    "1. **Reviewer Score:** Average score is 0.57, with a balanced distribution of positive and negative reviews. Positive reviews slightly dominate the dataset.\n",
    " \n",
    "2. **Word Counts:** Negative reviews, on average, are slightly longer than positive ones, hinting that customers elaborate more on negative experiences.\n",
    "\n",
    "3. **Reviewer Habits:** While an average reviewer has given around 7 reviews, there's a significant variance in review counts, hinting at a few frequent reviewers.\n",
    "\n",
    "4. **Review Timeline:** Reviews span across a couple of years, with an average being about a year old.\n",
    "\n",
    "5. **Hotel Locations:** London hotels dominate the reviews, followed by Barcelona and Amsterdam.\n",
    "\n",
    "6. **Reviewer Origins:** The majority of reviews are from international travelers, with a smaller percentage from major countries like the USA or UK.\n",
    "\n",
    "7. **Trip Purpose:** Most reviews (81%) stem from leisure trips, hinting at the target audience for these hotels.\n",
    "\n",
    "Descriptive stats offer a glimpse, but a comprehensive view requires further investigation."
   ]
  },
  {
   "cell_type": "code",
   "execution_count": 79,
   "id": "17a23253",
   "metadata": {},
   "outputs": [
    {
     "data": {
      "image/png": "[encoded data removed]",
      "text/plain": [
       "<Figure size 800x800 with 1 Axes>"
      ]
     },
     "metadata": {},
     "output_type": "display_data"
    }
   ],
   "source": [
    "# Plotting the distribution of Reviewer_Score\n",
    "plt.figure(figsize=(8, 8))\n",
    "ax = sns.countplot(x='Reviewer_Score', data=df)\n",
    "plt.title('Distribution of Reviewer Score')\n",
    "plt.xlabel('Reviewer Score')\n",
    "plt.ylabel('Count')\n",
    "\n",
    "# Add labels to the bars with their totals\n",
    "for p in ax.patches:\n",
    "    ax.annotate(f'{int(p.get_height())}', \n",
    "                (p.get_x() + p.get_width() / 2., p.get_height()), \n",
    "                ha='center', va='center', \n",
    "                xytext=(0, 10), \n",
    "                textcoords='offset points')\n",
    "\n",
    "plt.show()\n"
   ]
  },
  {
   "cell_type": "code",
   "execution_count": 80,
   "id": "40247211",
   "metadata": {},
   "outputs": [
    {
     "data": {
      "image/png": "[encoded data removed]",
      "text/plain": [
       "<Figure size 800x800 with 1 Axes>"
      ]
     },
     "metadata": {},
     "output_type": "display_data"
    }
   ],
   "source": [
    "# Plot a Percentage of Positive and Negative Reviews\n",
    "\n",
    "# Count the number of positive and negative reviews\n",
    "review_counts = df['Reviewer_Score'].value_counts()\n",
    "\n",
    "# Calculate the percentage of positive and negative reviews\n",
    "review_percentages = review_counts / len(df) * 100\n",
    "\n",
    "# Create a bar chart\n",
    "plt.figure(figsize=(8, 8))\n",
    "bars = plt.bar(['Positive', 'Negative'], review_percentages)\n",
    "\n",
    "# Add percentage labels\n",
    "for bar in bars:\n",
    "    yval = bar.get_height()\n",
    "    plt.text(bar.get_x() + bar.get_width()/2, yval + 0.5, round(yval, 2), ha='center', va='bottom')\n",
    "\n",
    "plt.xlabel('Reviewer Score')\n",
    "plt.ylabel('Percentage')\n",
    "plt.title('Percentage of Positive and Negative Reviews')\n",
    "plt.show()"
   ]
  },
  {
   "cell_type": "markdown",
   "id": "6cd6cc42",
   "metadata": {},
   "source": [
    "- **Total Reviews:** There were a total of 515,738 reviews.\n",
    "- **Negative Reviews:** 221,764 of these were negative, making up approximately 43% of the total reviews.\n",
    "- **Positive Reviews:** 293,974 were positive, constituting approximately 57% of the reviews.\n",
    "- **Positive Reviews:** 57%\n",
    "- **Negative Reviews:** 43%\n",
    "\n",
    "**Actionable Insights:**\n",
    "1. **Leverage Positive Feedback:** With more than half of the reviews being positive, the hotel should continue to maintain and even enhance the aspects that guests appreciate. Promote these positive reviews in marketing campaigns to attract potential guests.\n",
    "  \n",
    "2. **Deep Dive into Negative Reviews:** With a significant 43% of reviews being negative, it's essential for Hotel Management Inc. to dive deeper into the feedback to understand common issues or complaints and address them promptly.\n",
    "\n",
    "3. **Feedback Mechanism:** Establish or strengthen the feedback mechanism to engage guests and understand their concerns more interactively. Early intervention can prevent negative reviews.\n",
    "\n",
    "4. **Engage with Reviewers:** Respond to both positive and negative reviews online. Thanking guests for positive feedback and addressing concerns in negative reviews can show that the hotel values feedback and is committed to improving.\n",
    "\n",
    "6. **Quality Assurance:** Implement or enhance quality checks for the hotel's services and amenities to ensure consistency in guest experience.\n",
    "\n",
    "7. **Guest Experience Enhancements:** Consider introducing new amenities, services, or guest experience initiatives based on the feedback from positive reviews to further elevate the experience.\n",
    "\n",
    "8. **Loyalty Programs and Incentives:** Offer loyalty programs or incentives for guests who leave feedback to encourage more reviews, helping the hotel to continually adjust its services and amenities based on real-time guest preferences.\n",
    "\n",
    "By acting on these insights, Hotel Management Inc. can aim to convert potential negative experiences into positive ones, maintain their reputation, and potentially increase their positive review ratio."
   ]
  },
  {
   "cell_type": "markdown",
   "id": "861936a5",
   "metadata": {},
   "source": [
    "- **Total Reviews:** There were a total of 515,738 reviews.\n",
    "- **Negative Reviews:** 221,764 of these were negative, making up approximately 43% of the total reviews.\n",
    "- **Positive Reviews:** 293,974 were positive, constituting approximately 57% of the reviews.\n",
    "\n",
    "**Actionable Insights:**\n",
    "\n",
    "With a significant 43% of reviews being negative, it's essential for Hotel Management Inc. to dive deeper into the feedback to understand common issues or complaints and address them promptly."
   ]
  },
  {
   "cell_type": "code",
   "execution_count": 58,
   "id": "50aa5d5a",
   "metadata": {},
   "outputs": [
    {
     "data": {
      "image/png": "[encoded data removed]",
      "text/plain": [
       "<Figure size 1200x600 with 1 Axes>"
      ]
     },
     "metadata": {},
     "output_type": "display_data"
    }
   ],
   "source": [
    "#Plot Total Nights Stayed at Hotels by each Location\n",
    "\n",
    "amsterdam_nights = df[df['Hotel_Address_Amsterdam'] == 1]['Nights_Stayed'].sum()\n",
    "barcelona_nights = df[df['Hotel_Address_Barcelona'] == 1]['Nights_Stayed'].sum()\n",
    "london_nights = df[df['Hotel_Address_London'] == 1]['Nights_Stayed'].sum()\n",
    "milan_nights = df[df['Hotel_Address_Milan'] == 1]['Nights_Stayed'].sum()\n",
    "paris_nights = df[df['Hotel_Address_Paris'] == 1]['Nights_Stayed'].sum()\n",
    "vienna_nights = df[df['Hotel_Address_Vienna'] == 1]['Nights_Stayed'].sum()\n",
    "\n",
    "locations = ['Amsterdam', 'Barcelona', 'London', 'Milan', 'Paris', 'Vienna']\n",
    "nights = [amsterdam_nights, barcelona_nights, london_nights, milan_nights, paris_nights, vienna_nights]\n",
    "\n",
    "plt.figure(figsize=(12,6))\n",
    "bars = plt.bar(locations, nights)\n",
    "plt.title('Total Nights Stayed at Hotels by Location')\n",
    "plt.xlabel('Hotel Location')\n",
    "plt.ylabel('Total Nights Stayed')\n",
    "\n",
    "# Annotate bars with their respective values\n",
    "for bar in bars:\n",
    "    yval = bar.get_height()\n",
    "    plt.text(bar.get_x() + bar.get_width()/2, yval + 100, round(yval,2), ha='center', va='bottom') # Adjust the offset value (100 here) if necessary.\n",
    "\n",
    "plt.show()\n",
    "\n"
   ]
  },
  {
   "cell_type": "markdown",
   "id": "04ccd495",
   "metadata": {},
   "source": [
    "- **London:** Topped the list with a whopping 530,947 nights stayed.\n",
    "- **Barcelona:** Comes next with 185,840 nights.\n",
    "- **Paris:** Guests stayed for 160,474 nights.\n",
    "- **Amsterdam:** Saw 150,008 nights.\n",
    "- **Vienna:** Accumulated 106,541 nights.\n",
    "- **Milan:** Had the least with 84,426 nights.\n",
    "\n",
    "**Actionable Insights:**\n",
    "1. **London's Popularity:** Given its top position, Hotel Management Inc. should consider additional investments in London, such as expanding facilities or enhancing services, to capitalize on its high demand.\n",
    "  \n",
    "2. **Understand Underperformance:** Dive deep into guest feedback from Milan, the location with the fewest nights stayed, to identify areas of improvement. \n",
    "\n",
    "3. **Promotional Campaigns:** Consider marketing campaigns or promotional deals for locations like Milan and Vienna to boost their numbers.\n",
    "\n",
    "4. **Seasonal Analysis:** Assess if there are seasonal trends that influence these numbers. For example, is Barcelona's popularity due to summer tourism? Tailor promotional activities based on such trends.\n",
    "\n",
    "5. **Resource Allocation:** Resource allocation (like staff, amenities, and maintenance) should be aligned with these insights. London, having the highest nights stayed, might need more resources, while Milan might need more promotional activities.\n",
    "\n",
    "By strategically analyzing and acting on these insights, Hotel Management Inc. can optimize its operations, improve guest satisfaction, and potentially boost revenue across all locations."
   ]
  },
  {
   "cell_type": "code",
   "execution_count": 69,
   "id": "5d86b10f",
   "metadata": {},
   "outputs": [
    {
     "data": {
      "image/png": "[encoded data removed]",
      "text/plain": [
       "<Figure size 640x480 with 1 Axes>"
      ]
     },
     "metadata": {},
     "output_type": "display_data"
    },
    {
     "name": "stdout",
     "output_type": "stream",
     "text": [
      "Min: 1\n",
      "1st Quartile (Q1): 1.0\n",
      "Median (Q2): 2.0\n",
      "3rd Quartile (Q3): 3.0\n",
      "Max: 31\n",
      "Mean: 2.36\n",
      "Number of outliers: 13705\n"
     ]
    }
   ],
   "source": [
    "# Plot a Boxplot of Nights Stayed to find outliers and the range of nights people who leave reviews have stayed at the hotel\n",
    "df.boxplot(column='Nights_Stayed')\n",
    "plt.ylabel('Nights')\n",
    "plt.title('Boxplot of Nights Stayed')\n",
    "plt.show()\n",
    "\n",
    "\n",
    "# Calculate and print relevant statistics\n",
    "q1 = df['Nights_Stayed'].quantile(0.25)\n",
    "q2 = df['Nights_Stayed'].quantile(0.5)\n",
    "q3 = df['Nights_Stayed'].quantile(0.75)\n",
    "data_min = df['Nights_Stayed'].min()\n",
    "data_max = df['Nights_Stayed'].max()\n",
    "mean = df['Nights_Stayed'].mean()\n",
    "iqr = q3 - q1\n",
    "lower_bound = q1 - (1.5 * iqr)\n",
    "upper_bound = q3 + (1.5 * iqr)\n",
    "outliers = df[(df['Nights_Stayed'] < lower_bound) | (df['Nights_Stayed'] > upper_bound)]\n",
    "\n",
    "print(f\"Min: {data_min}\")\n",
    "print(f\"1st Quartile (Q1): {q1}\")\n",
    "print(f\"Median (Q2): {q2}\")\n",
    "print(f\"3rd Quartile (Q3): {q3}\")\n",
    "print(f\"Max: {data_max}\")\n",
    "print(f\"Mean: {mean:.2f}\")\n",
    "print(f\"Number of outliers: {len(outliers)}\")\n",
    "\n"
   ]
  },
  {
   "cell_type": "markdown",
   "id": "e93b27fd",
   "metadata": {},
   "source": [
    "- **Min Nights Stayed:** 1 night.\n",
    "- **Median Stay Duration:** 2 nights.\n",
    "- **Average Stay Duration:** Approximately 2.36 nights.\n",
    "- **Max Nights Stayed:** 31 nights.\n",
    "- **Outliers:** There are 13,705 instances where guests stayed for a duration that's uncommon (much longer than average).\n",
    "\n",
    "**Actionable Insights:**\n",
    "1. **Focus on Short Stays:** Given that both the median and mean are around 2 nights, this indicates that most guests prefer short stays. Tailor packages or promotions to cater to these short-term guests.\n",
    "  \n",
    "2. **Special Packages for Extended Stays:** With a max of 31 nights, some guests are staying for extended periods. Offer long-term stay packages or discounts to encourage more such bookings. \n",
    "\n",
    "3. **Enhance One-Night Stay Experience:** Since the minimum, 1st quartile, and even the median are at or around 1-2 nights, it's crucial to make the experience memorable for these short-term guests. Think of express check-ins, special one-night stay packages, or unique experiences that can be completed in a short duration.\n",
    "\n",
    "4. **Targeted Marketing:** Use these stats in marketing campaigns. For instance, advertise the hotel as an ideal weekend getaway (given the 2-night median) or highlight amenities for extended stay guests.\n",
    "\n",
    "Taking actions based on these insights can potentially improve guest satisfaction, optimize hotel offerings, and enhance overall revenue."
   ]
  },
  {
   "cell_type": "code",
   "execution_count": 76,
   "id": "d815f7de",
   "metadata": {},
   "outputs": [
    {
     "data": {
      "image/png": "[encoded data removed]",
      "text/plain": [
       "<Figure size 1000x600 with 1 Axes>"
      ]
     },
     "metadata": {},
     "output_type": "display_data"
    }
   ],
   "source": [
    "# Plot the Total Number of Reviews by Month\n",
    "\n",
    "# Get the counts for each month\n",
    "month_counts = df['Month'].value_counts().sort_index()\n",
    "\n",
    "# Plot the bars\n",
    "ax = month_counts.plot(kind='bar', figsize=(10,6))\n",
    "\n",
    "# Label the bars with their respective counts\n",
    "for i, v in enumerate(month_counts):\n",
    "    ax.text(i, v + 50, str(v), ha='center', va='bottom')  # Adjust the `+ 50` if needed for better spacing\n",
    "\n",
    "plt.xlabel('Month')\n",
    "plt.ylabel('Number of Reviews')\n",
    "plt.title('Total Number of Reviews by Month')\n",
    "plt.tight_layout()\n",
    "plt.show()\n"
   ]
  },
  {
   "cell_type": "markdown",
   "id": "674026b3",
   "metadata": {},
   "source": [
    "**Results by Month**:\n",
    "- January: 42,151\n",
    "- February: 38,370\n",
    "- March: 41,110\n",
    "- April: 42,883\n",
    "- May: 46,490\n",
    "- June: 42,896\n",
    "- July: 49,318\n",
    "- August: 50,672\n",
    "- September: 42,428\n",
    "- October: 43,843\n",
    "- November: 35,970\n",
    "- December: 39,607\n",
    "\n",
    "**Actionable Insights**:\n",
    "1. **Peak Seasonality**: The highest number of reviews (and presumably stays) occur during the summer months, particularly in July and August. This indicates peak seasonality.\n",
    "2. **Off-Peak Period**: November has the lowest number of reviews, suggesting a potential off-peak or less busy period for the hotel.\n",
    "3. **Promotions & Offers**: Consider creating promotions or offers during low-review months like November to boost occupancy.\n",
    "4. **Quality Assessment**: Use peak months to gauge if any operational challenges arise due to high occupancy. Address these to ensure consistent service quality year-round.\n",
    "\n",
    "The hotel's management can use these insights to better forecast demand, manage staffing, and plan promotional activities."
   ]
  },
  {
   "cell_type": "code",
   "execution_count": 63,
   "id": "b41d746d",
   "metadata": {},
   "outputs": [
    {
     "data": {
      "image/png": "[encoded data removed]",
      "text/plain": [
       "<Figure size 1000x900 with 1 Axes>"
      ]
     },
     "metadata": {},
     "output_type": "display_data"
    }
   ],
   "source": [
    "# Plot the Total Number of Reviews by Nationality\n",
    "ax = df.filter(regex='Reviewer_Nationality_*').sum().sort_values(ascending=False).head(6).plot(kind='bar', figsize=(10, 9))\n",
    "plt.xlabel('Reviewer Nationality')\n",
    "plt.ylabel('Number of Reviews')\n",
    "plt.title('Top Reviewer Nationalities')\n",
    "\n",
    "# Add labels to the bars with their totals\n",
    "for p in ax.patches:\n",
    "    ax.annotate(f'{int(p.get_height())}', \n",
    "                (p.get_x() + p.get_width() / 2., p.get_height()), \n",
    "                ha='center', va='center', \n",
    "                xytext=(0, 10), \n",
    "                textcoords='offset points')\n",
    "\n",
    "plt.tight_layout()\n",
    "plt.show()\n"
   ]
  },
  {
   "cell_type": "markdown",
   "id": "2149b3aa",
   "metadata": {},
   "source": [
    "**Results by Reviewer Nationality**:\n",
    "- UK: 245,246\n",
    "- Other: 188,307\n",
    "- USA: 35,437\n",
    "- Australia: 21,686\n",
    "- Ireland: 14,827\n",
    "- UAE: 10,235\n",
    "\n",
    "**Actionable Insights**:\n",
    "1. **Targeted Marketing**: The majority of reviewers are from the UK, suggesting a strong domestic market. However, there's potential to increase marketing efforts in the USA and Australia, given their representation.\n",
    "2. **Cultural Considerations**: Given the diversity of nationalities, ensure staff training includes cultural sensitivities and awareness.\n",
    "3. **Custom Packages**: Offer special packages or amenities catering to the preferences of guests from the USA, Australia, Ireland, and UAE to enhance their experience.\n",
    "4. **Feedback Collection**: Use feedback from the 'Other' nationality category to identify common needs or concerns from a diverse group of guests.\n",
    "\n",
    "These insights can help Hotel Management Inc. tailor their services, marketing strategies, and guest experience to cater to the most frequent visitors while also capitalizing on potential growth markets."
   ]
  },
  {
   "cell_type": "markdown",
   "id": "76144e9a",
   "metadata": {},
   "source": [
    "## 4. Preprocessing of Positive and Negative Reviews"
   ]
  },
  {
   "cell_type": "markdown",
   "id": "fc1c49bb",
   "metadata": {},
   "source": [
    "- Text cleaning steps: lowercasing, removing punctuation, stopwords, and using lemmatization or stemming.\n",
    "- Tokenization: Mention the tokenizer used.\n",
    "- Split the data into train and test sets."
   ]
  },
  {
   "cell_type": "markdown",
   "id": "0142c371",
   "metadata": {},
   "source": [
    "**Data Cleaning and Stemming**"
   ]
  },
  {
   "cell_type": "code",
   "execution_count": 5,
   "id": "b5c4c38e",
   "metadata": {},
   "outputs": [],
   "source": [
    "# Data cleaning: This function converts to lower case, removes square brackets, removes numbers and punctuation, and performs stemming\n",
    "def clean_text(text):\n",
    "    stemmer = PorterStemmer()\n",
    "    text = text.lower() # Convert to lowercase\n",
    "    text = re.sub('\\[.*?\\]', '', text) # Removing square brackets\n",
    "    text = re.sub('[%s]' % re.escape(string.punctuation), '', text) # Removing numbers and punctuation\n",
    "    text = re.sub('\\w*\\d\\w*', '', text) # Removing words with numbers\n",
    "    text = ' '.join([stemmer.stem(word) for word in text.split()])  # Stemming each word in the text\n",
    "    return text\n",
    "\n",
    "df['Positive_Review'] = df['Positive_Review'].apply(clean_text)\n",
    "df['Negative_Review'] = df['Negative_Review'].apply(clean_text)\n"
   ]
  },
  {
   "cell_type": "markdown",
   "id": "36cba63f",
   "metadata": {},
   "source": [
    "**Splitting the Data into Training and Testing Sets**"
   ]
  },
  {
   "cell_type": "code",
   "execution_count": 6,
   "id": "006e0191",
   "metadata": {},
   "outputs": [],
   "source": [
    "from sklearn.model_selection import train_test_split\n",
    "\n",
    "train, test = train_test_split(df, test_size=0.2, random_state=42)\n"
   ]
  },
  {
   "cell_type": "markdown",
   "id": "e536e10c",
   "metadata": {},
   "source": [
    "**Tokenization, Stopwords Removal, and Vectorization**"
   ]
  },
  {
   "cell_type": "markdown",
   "id": "103e70be",
   "metadata": {},
   "source": [
    "- Use CountVectorizer on the positive and negative review columns separately, setting the max_features to 500 and min_df to 10. Merge the resulting arrays with the original numeric features."
   ]
  },
  {
   "cell_type": "code",
   "execution_count": 7,
   "id": "5ad30eea",
   "metadata": {},
   "outputs": [],
   "source": [
    "vectorizer_pos = CountVectorizer(max_features=500, min_df=10, stop_words='english')\n",
    "vectorizer_neg = CountVectorizer(max_features=500, min_df=10, stop_words='english')"
   ]
  },
  {
   "cell_type": "code",
   "execution_count": 8,
   "id": "700765ad",
   "metadata": {},
   "outputs": [],
   "source": [
    "train_pos_features = vectorizer_pos.fit_transform(train['Positive_Review'])\n",
    "train_neg_features = vectorizer_neg.fit_transform(train['Negative_Review'])\n"
   ]
  },
  {
   "cell_type": "code",
   "execution_count": 9,
   "id": "49ed1aa1",
   "metadata": {},
   "outputs": [],
   "source": [
    "test_pos_features = vectorizer_pos.transform(test['Positive_Review'])\n",
    "test_neg_features = vectorizer_neg.transform(test['Negative_Review'])"
   ]
  },
  {
   "cell_type": "markdown",
   "id": "eb48cb01",
   "metadata": {},
   "source": [
    "**Combine the Positive and Negative Features and Predict Accuracy Score**"
   ]
  },
  {
   "cell_type": "code",
   "execution_count": 10,
   "id": "6f020de0",
   "metadata": {},
   "outputs": [],
   "source": [
    "train_pos_df = pd.DataFrame(train_pos_features.toarray(), columns=['pos_' + i for i in vectorizer_pos.get_feature_names_out()])\n",
    "train_neg_df = pd.DataFrame(train_neg_features.toarray(), columns=['neg_' + i for i in vectorizer_neg.get_feature_names_out()])\n",
    "\n",
    "test_pos_df = pd.DataFrame(test_pos_features.toarray(), columns=['pos_' + i for i in vectorizer_pos.get_feature_names_out()])\n",
    "test_neg_df = pd.DataFrame(test_neg_features.toarray(), columns=['neg_' + i for i in vectorizer_neg.get_feature_names_out()])\n"
   ]
  },
  {
   "cell_type": "code",
   "execution_count": 11,
   "id": "01f28f44",
   "metadata": {},
   "outputs": [],
   "source": [
    "train = train.reset_index(drop=True)\n",
    "test = test.reset_index(drop=True)\n",
    "\n",
    "X_train = pd.concat([train.drop(['Positive_Review', 'Negative_Review'], axis=1), train_pos_df, train_neg_df], axis=1)\n",
    "X_test = pd.concat([test.drop(['Positive_Review', 'Negative_Review'], axis=1), test_pos_df, test_neg_df], axis=1)\n"
   ]
  },
  {
   "cell_type": "code",
   "execution_count": 12,
   "id": "0bf5f7db",
   "metadata": {},
   "outputs": [],
   "source": [
    "y_train = train['Reviewer_Score']\n",
    "y_test = test['Reviewer_Score']\n"
   ]
  },
  {
   "cell_type": "markdown",
   "id": "52655597",
   "metadata": {},
   "source": [
    "## 5. Modelling"
   ]
  },
  {
   "cell_type": "markdown",
   "id": "e42462a0",
   "metadata": {},
   "source": [
    "- Logistic Regression: Fit the model, and report the test and train accuracy. Extract the top 20 words from both positive and negative reviews that are most predictive of sentiment."
   ]
  },
  {
   "cell_type": "markdown",
   "id": "e5717a97",
   "metadata": {},
   "source": [
    "**Fitting the Model & Predictions**"
   ]
  },
  {
   "cell_type": "code",
   "execution_count": 13,
   "id": "a1fad073",
   "metadata": {},
   "outputs": [
    {
     "data": {
      "text/plain": [
       "LogisticRegression(max_iter=1000)"
      ]
     },
     "execution_count": 13,
     "metadata": {},
     "output_type": "execute_result"
    }
   ],
   "source": [
    "from sklearn.linear_model import LogisticRegression\n",
    "\n",
    "# Initialize and fit the model\n",
    "logreg = LogisticRegression(max_iter=1000, solver='lbfgs')\n",
    "logreg.fit(X_train, y_train)"
   ]
  },
  {
   "cell_type": "code",
   "execution_count": 14,
   "id": "10354ed4",
   "metadata": {},
   "outputs": [
    {
     "name": "stdout",
     "output_type": "stream",
     "text": [
      "Training Accuracy: 0.7153\n",
      "Test Accuracy: 0.7134\n"
     ]
    }
   ],
   "source": [
    "from sklearn.metrics import accuracy_score\n",
    "\n",
    "train_predictions = logreg.predict(X_train)\n",
    "test_predictions = logreg.predict(X_test)\n",
    "\n",
    "train_accuracy = accuracy_score(y_train, train_predictions)\n",
    "test_accuracy = accuracy_score(y_test, test_predictions)\n",
    "\n",
    "print(f\"Training Accuracy: {train_accuracy:.4f}\")\n",
    "print(f\"Test Accuracy: {test_accuracy:.4f}\")\n"
   ]
  },
  {
   "cell_type": "markdown",
   "id": "9e9ca8c4",
   "metadata": {},
   "source": [
    "Based on the train and test accuracy scores, we can provide actionable insights to improve the model's performance:\n",
    "\n",
    "**Train and Test Accuracy Insights**:\n",
    "1. **Good Generalization**: The closeness of training and test accuracies indicates a well-generalized model.\n",
    "2. **Hyperparameter Tuning**: Fine-tuning model parameters may lead to accuracy improvements.\n",
    "3. **Feature Engineering**: Adding new features or optimizing existing ones can enhance model performance.\n",
    "4. **Data Expansion**: Increasing the dataset size by adding more reviews could improve robustness.\n",
    "5. **Advanced Models**: While logistic regression is a commonly used and interpretable model, considering more complex models like Support Vector Machines (SVMs) or Neural Networks might lead to better predictive performance.\n",
    "6. **Continuous Monitoring**: Regularly review model predictions and recalibrate if there's a decline in accuracy.\n",
    "\n",
    "Regular model iterations and feedback incorporation are key to optimizing performance of the sentiment analysis model."
   ]
  },
  {
   "cell_type": "markdown",
   "id": "6bd45845",
   "metadata": {},
   "source": [
    "**Extract & Display Top 20 words for Positive_Reviews and Negative_Reviews**"
   ]
  },
  {
   "cell_type": "code",
   "execution_count": 16,
   "id": "3dbefc9b",
   "metadata": {},
   "outputs": [
    {
     "name": "stdout",
     "output_type": "stream",
     "text": [
      "Top 20 words from positive reviews indicative of positive sentiment: Index(['pos_staff', 'pos_veri', 'pos_wa', 'pos_room', 'pos_hotel', 'pos_great',\n",
      "       'pos_help', 'pos_excel', 'pos_friendli', 'pos_love', 'pos_stay',\n",
      "       'pos_everyth', 'pos_comfort', 'pos_amaz', 'pos_perfect', 'pos_clean',\n",
      "       'pos_bed', 'pos_servic', 'pos_breakfast', 'pos_realli'],\n",
      "      dtype='object')\n",
      "Top 20 words from negative reviews indicative of negative sentiment: Index(['neg_room', 'neg_wa', 'neg_veri', 'neg_small', 'neg_hotel', 'neg_staff',\n",
      "       'neg_bed', 'neg_bathroom', 'neg_poor', 'neg_work', 'neg_clean',\n",
      "       'neg_breakfast', 'neg_old', 'neg_night', 'neg_servic', 'neg_recept',\n",
      "       'neg_noisi', 'neg_need', 'neg_star', 'neg_book'],\n",
      "      dtype='object')\n"
     ]
    }
   ],
   "source": [
    "# Extract coefficients for positive reviews\n",
    "pos_coefficients = logreg.coef_[0][X_train.columns.str.startswith('pos_')]\n",
    "pos_words = X_train.columns[X_train.columns.str.startswith('pos_')]\n",
    "\n",
    "# Extract coefficients for negative reviews\n",
    "neg_coefficients = logreg.coef_[0][X_train.columns.str.startswith('neg_')]\n",
    "neg_words = X_train.columns[X_train.columns.str.startswith('neg_')]\n",
    "\n",
    "# Get top 20 words for positive sentiment\n",
    "top_positive_words = pos_words[pos_coefficients.argsort()[-20:][::-1]]\n",
    "\n",
    "# Get top 20 words for negative sentiment\n",
    "top_negative_words = neg_words[neg_coefficients.argsort()[:20]]\n",
    "\n",
    "print(f\"Top 20 words from positive reviews indicative of positive sentiment:\", top_positive_words)\n",
    "print(f\"Top 20 words from negative reviews indicative of negative sentiment:\", top_negative_words)\n"
   ]
  },
  {
   "cell_type": "markdown",
   "id": "ffd84c5a",
   "metadata": {},
   "source": [
    "Let's first reconstruct the words that were truncated and order them by positive and negative sentiment.\n",
    "\n",
    "**Top 20 words most predictive of a positive sentiment:**\n",
    "1. staff\n",
    "2. very (assuming \"pos_veri\" is truncated)\n",
    "3. walking (assuming \"pos_wa\" is truncated)\n",
    "4. room \n",
    "5. hotel \n",
    "6. great \n",
    "7. helpful (assuming \"pos_help\" is truncated)\n",
    "8. excellent (assuming \"pos_excel\" is truncated)\n",
    "9. friendly (assuming \"pos_friendli\" is truncated)\n",
    "10. love \n",
    "11. stay \n",
    "12. everything (assuming \"pos_everyth\" is truncated)\n",
    "13. comfortable (assuming \"pos_comfort\" is truncated)\n",
    "14. amazing (assuming \"pos_amaz\" is truncated)\n",
    "15. perfect \n",
    "16. clean\n",
    "17. bed \n",
    "18. service (assuming \"pos_servic\" is truncated)\n",
    "19. breakfast\n",
    "20. really (assuming \"pos_realli\" is truncated)\n",
    "\n",
    "**Top 20 words most predictive of a negative sentiment:**\n",
    "1. room \n",
    "2. wait (assuming \"neg_wa\" is truncated)\n",
    "3. very (assuming \"neg_veri\" is truncated)\n",
    "4. small\n",
    "5. hotel \n",
    "6. staff \n",
    "7. bed \n",
    "8. bathroom\n",
    "9. poor \n",
    "10. work \n",
    "11. cleanliness (assuming \"neg_clean\" is truncated)\n",
    "12. breakfast\n",
    "13. old\n",
    "14. night\n",
    "15. service (assuming \"neg_servic\" is truncated)\n",
    "16. reception (assuming \"neg_recept\" is truncated)\n",
    "17. noisy (assuming \"neg_noisi\" is truncated)\n",
    "18. need\n",
    "19. star\n",
    "20. booking (assuming \"neg_book\" is truncated)\n",
    "\n",
    "Based on the provided top words predictive of positive and negative sentiments in hotel reviews, here's an actionable insight breakdown:\n",
    "\n",
    "**Top Words Predictive of a Positive Sentiment:**\n",
    "\n",
    "1. **staff, helpful, friendly:** The friendliness and helpfulness of the staff appear to be significant positive contributors to guest experience. Regular training sessions to further enhance customer service skills might help maintain this positive impression.\n",
    "\n",
    "2. **very, great, love, excellent, amazing, perfect:** These adjectives signal strong satisfaction from guests. Ensuring that the factors leading to these reactions are maintained or enhanced is critical.\n",
    "\n",
    "3. **walking, stay, room, hotel, bed, bathroom, service:** These terms relate to the basic amenities and services offered by the hotel. It suggests that the hotel is offering satisfactory fundamental services.\n",
    "\n",
    "4. **everything, comfortable, clean, breakfast:** Comfort, cleanliness, and a good breakfast seem to be pivotal aspects of the positive guest experience. Periodic quality checks in these areas can ensure standards remain high.\n",
    "\n",
    "5. **really:** A common emphasis word, suggesting strong feelings about the mentioned attributes. Checking its context in reviews can provide further details.\n",
    "\n",
    "**Top Words Predictive of a Negative Sentiment:**\n",
    "\n",
    "1. **wait, poor, work, old, noisy, need:** These words indicate potential areas of concern. Guests might be experiencing long wait times, find certain amenities or services not working, or feel the decor is outdated. Noise complaints are also common in hotels, suggesting the need for better soundproofing or addressing disturbances.\n",
    "\n",
    "2. **small:** If related to room size, considering offering accurate room descriptions or pictures to manage expectations. Another approach could be optimizing room layouts to maximize space.\n",
    "\n",
    "3. **staff, reception:** Even though staff appeared as a positive factor, it also emerges in negative reviews, highlighting the importance of consistent high-quality service. Addressing specific issues at the reception could improve overall guest perception.\n",
    "\n",
    "4. **room, hotel, bed, bathroom, breakfast, service:** These basic hotel offerings also surface in negative reviews, emphasizing the importance of maintaining a high standard across all services and amenities.\n",
    "\n",
    "5. **cleanliness:** It's crucial for the hospitality industry. Negative mentions may require immediate attention to cleaning protocols.\n",
    "\n",
    "6. **star, booking:** Negative mentions of \"star\" might relate to guests feeling the hotel doesn't meet its star rating. For \"booking\", there could be issues related to the booking process or discrepancies between what was booked and what was provided.\n",
    "\n",
    "**Actionable Insights:**\n",
    "\n",
    "1. **Positive Feedback Loop**: Given the overwhelming positive feedback on staff and service, utilize this as a motivational tool. Highlight these accolades in team meetings to boost employee morale and emphasize the importance of maintaining high service standards.\n",
    "\n",
    "2. **Training and Improvement**: Notable mentions of staff in both positive and negative contexts indicate the pivotal role of staff in the guest experience. Address any negative feedback related to staff interactions or reception issues by conducting training sessions and workshops to further enhance customer service skills.\n",
    "\n",
    "3. **Facility Upgrades**: Feedback highlighting rooms as \"small\" or the hotel appearing \"old\" suggests a need for modernization. Consider undertaking renovations or subtle changes to optimize space and offer a more contemporary vibe.\n",
    "\n",
    "4. **Address Noise Concerns**: Noise disturbances have been noted. Investigate potential sources, such as nearby establishments or internal hotel activities. Consider implementing soundproofing measures in affected areas and offer earplugs or alternative room options to guests if disturbances are unavoidable.\n",
    "\n",
    "5. **Cleanliness Priority**: Cleanliness emerged as a crucial aspect of both praise and criticism. Reinforce rigorous cleanliness standards, schedule periodic training for housekeeping staff, and conduct regular inspections to ensure these standards are consistently met.\n",
    "\n",
    "6. **Optimize Booking Process**: Negative mentions relating to \"booking\" imply potential friction in the reservation process. Streamline the booking mechanism, ensuring clarity and accuracy of room details. Additionally, consider offering promotions or loyalty programs to encourage direct bookings, potentially reducing wait times and booking discrepancies.\n",
    "\n",
    "7. **Customer Feedback**: Continuously promote the importance of guest feedback. Not only does it provide invaluable insights, but addressing concerns and feedback promptly also ensures guests feel valued and heard, fostering loyalty and repeat business.\n",
    "\n",
    "While these are generalized insights, individual reviews may provide more specific areas of improvement or highlight unique strengths."
   ]
  },
  {
   "cell_type": "markdown",
   "id": "bfa45277",
   "metadata": {},
   "source": [
    "**Decision Tree Classifier with PCA: Use a pipeline to combine PCA with a decision tree classifier. Optimize hyperparameters using 5-fold cross-validation. Compare the results with the logistic regression model.**"
   ]
  },
  {
   "cell_type": "code",
   "execution_count": 17,
   "id": "d28c2e69",
   "metadata": {},
   "outputs": [],
   "source": [
    "from sklearn.decomposition import PCA\n",
    "from sklearn.tree import DecisionTreeClassifier\n",
    "from sklearn.pipeline import Pipeline\n",
    "\n",
    "# Create a pipeline with PCA and Decision Tree classifier\n",
    "pipeline = Pipeline([\n",
    "    ('pca', PCA(n_components=20)),\n",
    "    ('clf', DecisionTreeClassifier())\n",
    "])\n"
   ]
  },
  {
   "cell_type": "code",
   "execution_count": 18,
   "id": "370bf5d9",
   "metadata": {},
   "outputs": [],
   "source": [
    "from sklearn.model_selection import GridSearchCV\n",
    "\n",
    "# Define the grid of hyperparameters\n",
    "param_grid = {\n",
    "    'clf__max_depth': [5, 10, 15, 20, None], # Including None allows the tree to grow without limit\n",
    "    'clf__min_samples_leaf': [1, 2, 4, 6, 8, 10],\n",
    "    'clf__criterion': ['gini', 'entropy']\n",
    "}\n",
    "\n",
    "# Create GridSearchCV object\n",
    "grid_search = GridSearchCV(pipeline, param_grid, cv=5, n_jobs=-1)  # `n_jobs=-1` uses all processors\n"
   ]
  },
  {
   "cell_type": "code",
   "execution_count": 19,
   "id": "05aa52d2",
   "metadata": {},
   "outputs": [
    {
     "name": "stdout",
     "output_type": "stream",
     "text": [
      "Best Parameters: {'clf__criterion': 'entropy', 'clf__max_depth': 15, 'clf__min_samples_leaf': 10}\n"
     ]
    }
   ],
   "source": [
    "# Fit to the training data\n",
    "grid_search.fit(X_train, y_train)\n",
    "\n",
    "# Print best parameters\n",
    "print(\"Best Parameters:\", grid_search.best_params_)\n"
   ]
  },
  {
   "cell_type": "markdown",
   "id": "f41a1e08",
   "metadata": {},
   "source": [
    "For our decision tree model:\n",
    "\n",
    "We're using \"entropy\" to decide the best way to split the data to measure the level of disorder or randomness in a group.\n",
    "The tree won't grow deeper than 15 levels.\n",
    "There will be at least 10 samples in the smallest leaf (end-point) of the tree."
   ]
  },
  {
   "cell_type": "code",
   "execution_count": 23,
   "id": "a335b427",
   "metadata": {},
   "outputs": [
    {
     "name": "stdout",
     "output_type": "stream",
     "text": [
      "Decision Tree Accuracy: 0.8463760809710319\n",
      "Decision Tree Precision: 0.8608\n",
      "Decision Tree Recall: 0.8709\n",
      "Decision Tree F1 Score: 0.8658\n"
     ]
    }
   ],
   "source": [
    "from sklearn.metrics import precision_score, recall_score, f1_score\n",
    "\n",
    "# Predict accuracy using the best Decision Tree model from GridSearch\n",
    "dt_predictions = grid_search.best_estimator_.predict(X_test)\n",
    "\n",
    "# Compute precision, recall and f1_score\n",
    "dt_precision = precision_score(y_test, dt_predictions)\n",
    "dt_recall = recall_score(y_test, dt_predictions)\n",
    "dt_f1 = f1_score(y_test, dt_predictions)\n",
    "\n",
    "\n",
    "print(\"Decision Tree Accuracy:\", accuracy_score(y_test, dt_predictions))\n",
    "print(f\"Decision Tree Precision: {dt_precision:.4f}\")\n",
    "print(f\"Decision Tree Recall: {dt_recall:.4f}\")\n",
    "print(f\"Decision Tree F1 Score: {dt_f1:.4f}\")"
   ]
  },
  {
   "cell_type": "code",
   "execution_count": 24,
   "id": "c27982b6",
   "metadata": {},
   "outputs": [
    {
     "name": "stdout",
     "output_type": "stream",
     "text": [
      "Entropy of the test set: 0.9862\n"
     ]
    }
   ],
   "source": [
    "def calculate_entropy(y):\n",
    "    classes, counts = np.unique(y, return_counts=True)\n",
    "    probabilities = counts / counts.sum()\n",
    "    entropy = -np.sum(probabilities * np.log2(probabilities))\n",
    "    return entropy\n",
    "\n",
    "entropy_test = calculate_entropy(y_test)\n",
    "print(f\"Entropy of the test set: {entropy_test:.4f}\")\n"
   ]
  },
  {
   "cell_type": "markdown",
   "id": "8e314281",
   "metadata": {},
   "source": [
    "The entropy value is 0.9862, which is very close to 1. This is the maximum value for entropy in a binary classification problem. Thus, this result is representative of a dataset which is approximately 50% negative and 50% positive in reviews. We can conclude that the dataset has a lot more randomness and disorder in its composition"
   ]
  },
  {
   "cell_type": "markdown",
   "id": "54453a61",
   "metadata": {},
   "source": [
    "**GridSearch Summary**:\n",
    "\n",
    "GridSearch is a technique used to find the best combination of hyperparameters for a machine learning model. In our context:\n",
    "\n",
    "- We used GridSearch to fine-tune a Decision Tree classifier.\n",
    "- The hyperparameters we explored were:\n",
    "    - **Criterion**: Determines the measure used for the quality of a split. We explored 'gini' and 'entropy'.\n",
    "    - **Max Depth**: The maximum depth the tree can grow to. Helps in controlling overfitting.\n",
    "    - **Min Samples Leaf**: Minimum samples required in a terminal (leaf) node. Ensures that splits are meaningful.\n",
    "\n",
    "Adjusting these hyperparameters can significantly impact a model's performance. Through GridSearch, we found the optimal combination for our dataset.\n",
    "  - Criterion (split quality measure): 'gini' or 'entropy'.\n",
    "  - Max depth of the tree.\n",
    "  - Minimum samples required at a leaf node.\n",
    "  \n",
    "- By exhaustively testing various combinations, GridSearch identified the optimal set of hyperparameters for our Decision Tree.\n",
    "\n",
    "**Model Performance Comparison with Logistic Regression**:\n",
    "\n",
    "1. **Accuracy**: \n",
    "   - **Decision Tree**: 84.64%\n",
    "   - **Logistic Regression**: 71.34%\n",
    "\n",
    "\n",
    "2. **Precision (Decision Tree)**: 86.08% \n",
    "3. **Recall (Decision Tree)**: 87.09%\n",
    "4. **F1 Score (Decision Tree)**: 86.58%\n",
    "\n",
    "**Conclusions**:\n",
    "- The Decision Tree model markedly outperformed the Logistic Regression in all provided metrics, suggesting it captures review sentiment more effectively.\n",
    "  \n",
    "- For Hotel Management Inc., the Decision Tree would be the preferred choice for classifying review sentiments.\n",
    "\n",
    "- Beyond just accuracy, the Decision Tree provides a balanced precision and recall, which is crucial for practical applications.\n",
    "\n",
    "Bottom line, the Decision Tree model is the superior tool for this dataset and objective based on the metrics presented.\n",
    "\n",
    "Consider Other Metrics: While accuracy, precision, recall, and F1 score are valuable metrics, it might be beneficial to consider other metrics or deeper dives (e.g., confusion matrix) to get a fuller picture of model performance."
   ]
  },
  {
   "cell_type": "code",
   "execution_count": 25,
   "id": "6179ef78",
   "metadata": {},
   "outputs": [
    {
     "name": "stdout",
     "output_type": "stream",
     "text": [
      "X_train shape: (412590, 1028)\n",
      "y_train shape: (412590,)\n"
     ]
    }
   ],
   "source": [
    "print(\"X_train shape:\", X_train.shape)\n",
    "print(\"y_train shape:\", y_train.shape)\n"
   ]
  },
  {
   "cell_type": "markdown",
   "id": "7c2cd0a4",
   "metadata": {},
   "source": [
    "## 6. Model Evaluation"
   ]
  },
  {
   "cell_type": "markdown",
   "id": "e04202dd",
   "metadata": {},
   "source": [
    "- In-depth evaluation of the best performing model: Analyze the confusion matrix, precision, recall, and comment on model errors."
   ]
  },
  {
   "cell_type": "markdown",
   "id": "f22d2d01",
   "metadata": {},
   "source": [
    "**Confusion Matrix**"
   ]
  },
  {
   "cell_type": "code",
   "execution_count": 26,
   "id": "9a9c8e7f",
   "metadata": {},
   "outputs": [
    {
     "data": {
      "image/png": "[encoded data removed]",
      "text/plain": [
       "<Figure size 800x600 with 2 Axes>"
      ]
     },
     "metadata": {},
     "output_type": "display_data"
    }
   ],
   "source": [
    "from sklearn.metrics import confusion_matrix, classification_report\n",
    "import seaborn as sns\n",
    "import matplotlib.pyplot as plt\n",
    "\n",
    "# Predict using the best Decision Tree model\n",
    "y_pred = grid_search.best_estimator_.predict(X_test)\n",
    "\n",
    "# Create a confusion matrix\n",
    "conf_matrix = confusion_matrix(y_test, y_pred)\n",
    "\n",
    "# Visualize the confusion matrix using Seaborn's heatmap\n",
    "plt.figure(figsize=(8, 6))\n",
    "sns.heatmap(conf_matrix, annot=True, fmt='g', cmap='Blues')\n",
    "plt.xlabel('Predicted labels')\n",
    "plt.ylabel('True labels')\n",
    "plt.title('Confusion Matrix')\n",
    "plt.show()\n"
   ]
  },
  {
   "cell_type": "code",
   "execution_count": 27,
   "id": "620214d4",
   "metadata": {},
   "outputs": [
    {
     "name": "stdout",
     "output_type": "stream",
     "text": [
      "              precision    recall  f1-score   support\n",
      "\n",
      "           0       0.83      0.81      0.82     44450\n",
      "           1       0.86      0.87      0.87     58698\n",
      "\n",
      "    accuracy                           0.85    103148\n",
      "   macro avg       0.84      0.84      0.84    103148\n",
      "weighted avg       0.85      0.85      0.85    103148\n",
      "\n"
     ]
    }
   ],
   "source": [
    "# Print classification report\n",
    "print(classification_report(y_test, y_pred))\n"
   ]
  },
  {
   "cell_type": "markdown",
   "id": "57eff703",
   "metadata": {},
   "source": [
    "The classification report, combined with the confusion matrix, provides a comprehensive evaluation of the model's performance on the test set. Here's what we can conclude based on the report and the confusion matrix:\n",
    "\n",
    "1. **Overall Model Performance**:\n",
    "    - **Accuracy**: The model has an accuracy of 0.85, meaning it correctly predicts the sentiment of the review 85% of the time.\n",
    "    \n",
    "2. **Performance on Negative Reviews (label 0)**:\n",
    "    - **Precision**: 83% of the reviews predicted as negative (0) by the model were actually negative.\n",
    "    - **Recall**: Of all the actual negative reviews, the model identified 81% of them correctly.\n",
    "    - **F1-score**: The harmonic mean of precision and recall for negative reviews is 82%. The closer this value is to 100%, the better the model's balance between precision and recall.\n",
    "\n",
    "3. **Performance on Positive Reviews (label 1)**:\n",
    "    - **Precision**: 86% of the reviews predicted as positive (1) by the model were actually positive.\n",
    "    - **Recall**: Of all the actual positive reviews, the model identified 87% of them correctly.\n",
    "    - **F1-score**: The harmonic mean of precision and recall for positive reviews is 87%.\n",
    "\n",
    "4. **Confusion Matrix**: \n",
    "    - The model correctly predicted 36,184 negative reviews and 51,118 positive reviews.\n",
    "    - The model misclassified 8,266 negative reviews as positive and 7,580 positive reviews as negative. These misclassification rates are somewhat balanced, with slightly more negative reviews being misclassified.\n",
    "\n",
    "**In summary**: The Decision Tree model has shown commendable performance in predicting hotel review sentiments. However, there's still room for improvement, as there were still 7,580 false positive reviews and 8,266 false negative reviews in the dataset. It's essential to consider optimizing these falsely marked reviews in the context of the business objective. For example, if the hotel management wishes to address negative feedback more specifically, they might want to work on improving the model's precision for negative reviews to reduce false positives."
   ]
  },
  {
   "cell_type": "markdown",
   "id": "9278708f",
   "metadata": {},
   "source": [
    "## 7. Conclusion"
   ]
  },
  {
   "cell_type": "markdown",
   "id": "8f753030",
   "metadata": {},
   "source": [
    "- Summarize the findings and insights from the analysis.\n",
    "- Discuss the implications of these findings for Hotel Management Inc.\n",
    "- Suggest potential ways to improve customer satisfaction and increase ratings, based on the insights from the analysis."
   ]
  },
  {
   "cell_type": "markdown",
   "id": "0728e4e7",
   "metadata": {},
   "source": [
    "**Findings & Insights**:\n",
    "1. The Decision Tree model accurately predicts hotel review sentiments with an 85% success rate, particularly excelling at identifying positive sentiments.\n",
    "2. The model has a slight weakness in pinpointing negative sentiments, misclassifying some of them as positive.\n",
    "\n",
    "**Implications for Hotel Management Inc.**:\n",
    "1. The model's results suggest that while most customers have a positive experience, there's a segment of reviews that require more scrutiny.\n",
    "2. Misclassification of negative reviews highlights the importance of manual review, especially to address genuine concerns.\n",
    "\n",
    "**Recommendations**:\n",
    "1. **Deep Dive into Negative Reviews**: Prioritize a manual check on negative reviews to ensure critical feedback isn't overlooked. Addressing these can help improve the overall customer experience.\n",
    "2. **Feedback Loop**: Create a system to loop back with customers who left negative feedback, addressing their concerns and potentially converting them into repeat guests.\n",
    "3. **Training & Quality Assurance**: Consider additional staff training focusing on areas recurrently mentioned in negative reviews. Ensure amenities and services match customer expectations. \n",
    "4. **Leverage Positive Feedback**: Study the positive reviews to identify and reinforce the strengths of the hotel, and possibly introduce more of what customers love.\n",
    "\n",
    "In conclusion, while the model provides a high-level overview, Hotel Management Inc. should delve deeper into individual feedback for actionable insights to enhance customer satisfaction."
   ]
  }
 ],
 "metadata": {
  "kernelspec": {
   "display_name": "Python 3 (ipykernel)",
   "language": "python",
   "name": "python3"
  },
  "language_info": {
   "codemirror_mode": {
    "name": "ipython",
    "version": 3
   },
   "file_extension": ".py",
   "mimetype": "text/x-python",
   "name": "python",
   "nbconvert_exporter": "python",
   "pygments_lexer": "ipython3",
   "version": "3.9.13"
  }
 },
 "nbformat": 4,
 "nbformat_minor": 5
}
